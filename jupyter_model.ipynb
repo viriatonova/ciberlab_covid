{
 "cells": [
  {
   "cell_type": "code",
   "execution_count": 2,
   "id": "8d5d9e4d",
   "metadata": {},
   "outputs": [],
   "source": [
    "import pandas as pd"
   ]
  },
  {
   "cell_type": "code",
   "execution_count": 3,
   "id": "eb2bebd1",
   "metadata": {},
   "outputs": [],
   "source": [
    "df = pd.read_csv('/home/viriato/Documentos/projects/ciberlab_covid/data_base/caso_full.csv', index_col=\"city\")"
   ]
  },
  {
   "cell_type": "code",
   "execution_count": 4,
   "id": "f69df35d",
   "metadata": {},
   "outputs": [
    {
     "output_type": "stream",
     "name": "stdout",
     "text": [
      "<class 'pandas.core.frame.DataFrame'>\nIndex: 2196928 entries, Rio Branco to nan\nData columns (total 17 columns):\n #   Column                                         Dtype  \n---  ------                                         -----  \n 0   city_ibge_code                                 float64\n 1   date                                           object \n 2   epidemiological_week                           int64  \n 3   estimated_population                           float64\n 4   estimated_population_2019                      float64\n 5   is_last                                        bool   \n 6   is_repeated                                    bool   \n 7   last_available_confirmed                       int64  \n 8   last_available_confirmed_per_100k_inhabitants  float64\n 9   last_available_date                            object \n 10  last_available_death_rate                      float64\n 11  last_available_deaths                          int64  \n 12  order_for_place                                int64  \n 13  place_type                                     object \n 14  state                                          object \n 15  new_confirmed                                  int64  \n 16  new_deaths                                     int64  \ndtypes: bool(2), float64(5), int64(6), object(4)\nmemory usage: 272.4+ MB\n"
     ]
    }
   ],
   "source": [
    "df.info()"
   ]
  }
 ],
 "metadata": {
  "kernelspec": {
   "name": "python3",
   "display_name": "Python 3.8.5 64-bit ('dev1': venv)"
  },
  "language_info": {
   "codemirror_mode": {
    "name": "ipython",
    "version": 3
   },
   "file_extension": ".py",
   "mimetype": "text/x-python",
   "name": "python",
   "nbconvert_exporter": "python",
   "pygments_lexer": "ipython3",
   "version": "3.8.5"
  },
  "interpreter": {
   "hash": "ea8fa53892ff1e298c3411a516a233762bfa28d397648aa0e90748de08214ea2"
  }
 },
 "nbformat": 4,
 "nbformat_minor": 5
}